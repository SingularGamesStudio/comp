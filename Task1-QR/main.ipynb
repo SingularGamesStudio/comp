{
 "cells": [
  {
   "cell_type": "code",
   "execution_count": 2,
   "metadata": {},
   "outputs": [],
   "source": [
    "import numpy as np"
   ]
  },
  {
   "cell_type": "code",
   "execution_count": 3,
   "metadata": {},
   "outputs": [],
   "source": [
    "def proj(a, b):\n",
    "    return b*np.dot(a, b)\n",
    "\n",
    "def QR(A: np.array):\n",
    "    n, m = A.shape\n",
    "\n",
    "    Q = np.zeros((n, m))\n",
    "    R = np.zeros((m, m))\n",
    "\n",
    "    for j in range(m):\n",
    "        next = A[:,j]\n",
    "        for i in range(j):\n",
    "            b = Q[:,i]\n",
    "            R[i,j] = np.dot(next, b)\n",
    "            next = next-proj(next, b)\n",
    "        R[j,j] = np.sqrt((next*next).sum())\n",
    "        Q[:,j] = (next / R[j,j])\n",
    "    return Q, R"
   ]
  },
  {
   "cell_type": "code",
   "execution_count": 4,
   "metadata": {},
   "outputs": [
    {
     "name": "stdout",
     "output_type": "stream",
     "text": [
      "Expected:  [[ 1  2  3]\n",
      " [ 5  7  1]\n",
      " [14 22 31]] \n",
      "Got:  [[ 1.  2.  3.]\n",
      " [ 5.  7.  1.]\n",
      " [14. 22. 31.]]\n"
     ]
    }
   ],
   "source": [
    "A = np.array(((1, 2, 3), (5, 7, 1), (14, 22, 31)))\n",
    "# Checking correctness of QR\n",
    "Q, R = QR(A)\n",
    "print(\"Expected: \", A, \"\\nGot: \", Q@R)"
   ]
  },
  {
   "cell_type": "code",
   "execution_count": 5,
   "metadata": {},
   "outputs": [],
   "source": [
    "def TriMNK(A: np.array, b: np.array):\n",
    "    n = A.shape[0]\n",
    "\n",
    "    x = np.zeros(n)\n",
    "    for i in range(n-1, -1, -1):\n",
    "        x[i] = (b[i] - np.dot(A[i], x))/A[i,i]\n",
    "\n",
    "    return x\n",
    "\n",
    "\n",
    "def MNK(A: np.array, b: np.array):\n",
    "    Q, R = QR(A)\n",
    "    b = np.transpose(Q)@b\n",
    "    return Q, R, TriMNK(R, b)"
   ]
  },
  {
   "cell_type": "code",
   "execution_count": 6,
   "metadata": {},
   "outputs": [
    {
     "name": "stdout",
     "output_type": "stream",
     "text": [
      "Square matrix solution diff: 4.7406354875705706e-12\n"
     ]
    }
   ],
   "source": [
    "A = np.array(((1, 2, 3), (5, 7, 1), (14, 22, 31)))\n",
    "b = np.array((42, 239, 25))\n",
    "\n",
    "expected = np.linalg.lstsq(A, b, rcond=None)[0]\n",
    "Q, R, res = MNK(A, b)\n",
    "\n",
    "print(f\"Square matrix solution diff: {np.linalg.norm(res-expected)}\")"
   ]
  },
  {
   "cell_type": "code",
   "execution_count": 7,
   "metadata": {},
   "outputs": [
    {
     "name": "stdout",
     "output_type": "stream",
     "text": [
      "Matrix with m>n solution diff: 2.96459002365857e-12\n"
     ]
    }
   ],
   "source": [
    "A = np.array(((1, 2), (5, 7), (14, 22)))\n",
    "b = np.array((42, 239, 25))\n",
    "\n",
    "expected = np.linalg.lstsq(A, b, rcond=None)[0]\n",
    "Q, R, res = MNK(A, b)\n",
    "\n",
    "print(f\"Matrix with m>n solution diff: {np.linalg.norm(res-expected)}\")"
   ]
  }
 ],
 "metadata": {
  "kernelspec": {
   "display_name": "Python 3",
   "language": "python",
   "name": "python3"
  },
  "language_info": {
   "codemirror_mode": {
    "name": "ipython",
    "version": 3
   },
   "file_extension": ".py",
   "mimetype": "text/x-python",
   "name": "python",
   "nbconvert_exporter": "python",
   "pygments_lexer": "ipython3",
   "version": "3.12.6"
  },
  "orig_nbformat": 4
 },
 "nbformat": 4,
 "nbformat_minor": 2
}
