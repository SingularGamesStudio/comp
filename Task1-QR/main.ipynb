{
 "cells": [
  {
   "cell_type": "code",
   "execution_count": 1,
   "metadata": {},
   "outputs": [],
   "source": [
    "import numpy as np"
   ]
  },
  {
   "cell_type": "code",
   "execution_count": 13,
   "metadata": {},
   "outputs": [],
   "source": [
    "def proj(a, b):\n",
    "    return b*(np.dot(a, b)/np.dot(b,b))\n",
    "\n",
    "def QR(A: np.array):\n",
    "    n, m = A.shape\n",
    "\n",
    "    Q = np.copy(A)\n",
    "    R = np.zeros((m, m))\n",
    "\n",
    "    for j in range(m):\n",
    "        next = A[:,j]\n",
    "        print(next)\n",
    "        for i in range(j):\n",
    "            b = Q[:,i]\n",
    "            R[i,j] = np.dot(next, b)\n",
    "            next = next-proj(next,b)\n",
    "            print(next)\n",
    "        print()\n",
    "        R[j,j] = np.dot(next, next)\n",
    "        Q[:,j] = next\n",
    "    return Q, R\n",
    "            "
   ]
  },
  {
   "cell_type": "code",
   "execution_count": 14,
   "metadata": {},
   "outputs": [
    {
     "data": {
      "text/plain": [
       "(array([[ 0.68329002, -0.69718395],\n",
       "        [ 0.88929341,  0.04047867]]),\n",
       " array([[-0.60927269, -0.79296078],\n",
       "        [-0.79296078,  0.60927269]]),\n",
       " array([[-1.12148474,  0.39267714],\n",
       "        [ 0.        ,  0.57750207]]))"
      ]
     },
     "execution_count": 14,
     "metadata": {},
     "output_type": "execute_result"
    }
   ],
   "source": [
    "rng = np.random.default_rng()\n",
    "a = rng.normal(size=(2, 2))\n",
    "Q, R = np.linalg.qr(a)\n",
    "a, Q, R"
   ]
  },
  {
   "cell_type": "code",
   "execution_count": 16,
   "metadata": {},
   "outputs": [
    {
     "name": "stdout",
     "output_type": "stream",
     "text": [
      "[0.68329002 0.88929341]\n",
      "\n",
      "[-0.69718395  0.04047867]\n",
      "[-0.45793649  0.35185624]\n",
      "\n"
     ]
    },
    {
     "data": {
      "text/plain": [
       "(array([[ 0.68329002, -0.45793649],\n",
       "        [ 0.88929341,  0.35185624]]),\n",
       " array([[ 1.25772803, -0.44038142],\n",
       "        [ 0.        ,  0.33350864]]),\n",
       " array([[ 0.85939301, -0.45363401],\n",
       "        [ 1.11848925, -0.2742812 ]]))"
      ]
     },
     "execution_count": 16,
     "metadata": {},
     "output_type": "execute_result"
    }
   ],
   "source": [
    "Q, R = QR(a)\n",
    "Q, R, Q@R"
   ]
  }
 ],
 "metadata": {
  "kernelspec": {
   "display_name": "Python 3",
   "language": "python",
   "name": "python3"
  },
  "language_info": {
   "codemirror_mode": {
    "name": "ipython",
    "version": 3
   },
   "file_extension": ".py",
   "mimetype": "text/x-python",
   "name": "python",
   "nbconvert_exporter": "python",
   "pygments_lexer": "ipython3",
   "version": "3.12.6"
  },
  "orig_nbformat": 4
 },
 "nbformat": 4,
 "nbformat_minor": 2
}
