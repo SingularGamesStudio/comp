{
 "cells": [
  {
   "cell_type": "code",
   "execution_count": 1,
   "metadata": {},
   "outputs": [],
   "source": [
    "import numpy as np\n",
    "import matplotlib.pyplot as plt"
   ]
  },
  {
   "cell_type": "code",
   "execution_count": 2,
   "metadata": {},
   "outputs": [],
   "source": [
    "def diag3(a: np.array, b: np.array, c: np.array, f: np.array):\n",
    "    n = b.shape[0]\n",
    "    \n",
    "    b1 = np.zeros(n)+b[0]\n",
    "    for i in range(1, n):\n",
    "        b1[i] = b[i]-a[i]*c[i-1]/b1[i-1]\n",
    "    f1 = np.zeros(n)+f[0]\n",
    "    for i in range(1, n):\n",
    "        f1[i] = f[i]-a[i]*f1[i-1]/b1[i-1]\n",
    "\n",
    "    x = np.zeros(n)+f1[n-1]/b1[n-1]\n",
    "    for i in range(n-2, -1, -1):\n",
    "        x[i] = (f1[i]-c[i]*x[i+1])/b1[i]\n",
    "    return x"
   ]
  },
  {
   "cell_type": "code",
   "execution_count": 22,
   "metadata": {},
   "outputs": [],
   "source": [
    "def jacobian(x: np.array, h:float, u:np.array):\n",
    "    n = x.shape[0]\n",
    "    d1 = np.zeros(n)+1/h/h\n",
    "    d1[0], d1[n-1] = 0, 0\n",
    "    d3 = np.zeros(n)+1/h/h\n",
    "    d3[0], d3[n-1] = 0, 0\n",
    "    d2 = (2/h/h+2*x*x)+2*np.log(u)\n",
    "    d2[0], d2[n-1] = 1, 1\n",
    "    return d1, d2, d3\n",
    "\n",
    "def func(x: np.array, h:float, u:np.array):\n",
    "    n = x.shape[0]\n",
    "    f = np.zeros(n)\n",
    "    for i in range(1, n-1):\n",
    "        f[i] = (u[i+1]+u[i-1])/h/h - u[i]*(2/h/h+2*x[i]*x[i]-2*np.log(u[i])-2)\n",
    "    return f\n",
    "\n",
    "# we need a learning rate, so that the values do not get negative because of fluctuations, and ln gets undefined\n",
    "def solve(n: int, tol: float, lr: float = 0.001):\n",
    "    h = 1/(n-1)\n",
    "    x = np.arange(n)*h\n",
    "    u = np.ones(n)\n",
    "    u[0], u[n-1] = 1, 1/np.e\n",
    "\n",
    "    while True:\n",
    "        d1, d2, d3 = jacobian(x, h, u)\n",
    "        f = func(x, h, u)\n",
    "        du = diag3(d1, d2, d3, f)\n",
    "        u+=du*lr\n",
    "\n",
    "        if np.linalg.norm(np.abs(du))<tol:\n",
    "            break\n",
    "    return x, u"
   ]
  },
  {
   "cell_type": "code",
   "execution_count": 25,
   "metadata": {},
   "outputs": [],
   "source": [
    "x_true, u_true = solve(65, 0.005)"
   ]
  },
  {
   "cell_type": "code",
   "execution_count": 27,
   "metadata": {},
   "outputs": [],
   "source": [
    "step = 2\n",
    "\n",
    "err = []\n",
    "\n",
    "while step<65:\n",
    "    x, u = solve(step+1, 0.005)\n",
    "    u_expected = np.zeros(u.shape[0])\n",
    "    last = 0 \n",
    "    for i in range(len(x_true)):\n",
    "        if np.abs(x_true[i]-x[last])<0.0000001:\n",
    "            u_expected[last] = u_true[i]\n",
    "            last+=1\n",
    "    err.append(np.linalg.norm(np.abs(u-u_expected)))\n",
    "    step*=2"
   ]
  },
  {
   "cell_type": "code",
   "execution_count": 28,
   "metadata": {},
   "outputs": [
    {
     "data": {
      "text/plain": [
       "[<matplotlib.lines.Line2D at 0x20f7ff60950>]"
      ]
     },
     "execution_count": 28,
     "metadata": {},
     "output_type": "execute_result"
    },
    {
     "data": {
      "image/png": "[encoded data removed]",
      "text/plain": [
       "<Figure size 640x480 with 1 Axes>"
      ]
     },
     "metadata": {},
     "output_type": "display_data"
    }
   ],
   "source": [
    "plt.plot(err)"
   ]
  },
  {
   "cell_type": "code",
   "execution_count": null,
   "metadata": {},
   "outputs": [
    {
     "data": {
      "text/plain": [
       "(array([0.  , 0.25, 0.5 , 0.75, 1.  ]),\n",
       " array([1.        , 0.94163979, 0.78000888, 0.56947604, 0.36787944]))"
      ]
     },
     "execution_count": 37,
     "metadata": {},
     "output_type": "execute_result"
    }
   ],
   "source": [
    "solve(n, 0.0000001)"
   ]
  }
 ],
 "metadata": {
  "kernelspec": {
   "display_name": "Python 3",
   "language": "python",
   "name": "python3"
  },
  "language_info": {
   "codemirror_mode": {
    "name": "ipython",
    "version": 3
   },
   "file_extension": ".py",
   "mimetype": "text/x-python",
   "name": "python",
   "nbconvert_exporter": "python",
   "pygments_lexer": "ipython3",
   "version": "3.12.6"
  },
  "orig_nbformat": 4
 },
 "nbformat": 4,
 "nbformat_minor": 2
}
